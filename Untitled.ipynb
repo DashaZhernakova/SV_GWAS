{
 "cells": [
  {
   "cell_type": "code",
   "execution_count": 1,
   "id": "87d31c39",
   "metadata": {},
   "outputs": [],
   "source": [
    "import pandas as pd\n"
   ]
  },
  {
   "cell_type": "code",
   "execution_count": 97,
   "id": "9d933039",
   "metadata": {},
   "outputs": [],
   "source": [
    "args = {\"i_fname\" : \"~/Downloads/test.txt\", \"f_fname\" : \"~/Downloads/test2.txt\", \"header\" : True, \"i_m\" : \"0,1\", \"cn\" : \"\", \"f_m\" : \"0,1\", \"f_cols\" : \"2\"}"
   ]
  },
  {
   "cell_type": "code",
   "execution_count": 98,
   "id": "e20d1f11",
   "metadata": {},
   "outputs": [],
   "source": [
    "i_fname = sys.stdin if args['i_fname'] == \"stdin\" else args['i_fname']\n",
    "header_row = 0 if args['header'] else None\n",
    "#separator = args['sep']\n",
    "separator = \"\\t\"\n",
    "\n",
    "i_file = pd.read_csv(i_fname, sep = separator, header = header_row)\n",
    "f_file = pd.read_csv(args['f_fname'], sep = separator, header = header_row)\n",
    "\n",
    "if ',' not in args['i_m']:\n",
    "    i_m = [i_file.columns[int(args['i_m'])]]\n",
    "    f_m = [f_file.columns[int(args['f_m'])]]\n",
    "else:\n",
    "    i_m = [i_file.columns[int(x)] for x in args['i_m'].split(',')]\n",
    "    f_m = [f_file.columns[int(x)] for x in args['f_m'].split(',')]\n",
    "\n",
    "f_cols = [f_file.columns[int(x)] for x in args['f_cols'].split(\",\")]\n",
    "\n",
    "if len(args['cn']) > 0:\n",
    "    colnames = args['cn'].split(',')\n",
    "else:    \n",
    "    colnames = f_cols\n"
   ]
  },
  {
   "cell_type": "code",
   "execution_count": 106,
   "id": "0ceefd9c",
   "metadata": {},
   "outputs": [],
   "source": [
    "if len(f_cols) == 1 and len(i_m) == 1:\n",
    "    if str(colnames[0]) not in i_file.columns:\n",
    "        newcol = str(colnames[0])\n",
    "    else:\n",
    "        newcol = str(colnames[0])+ \".y\"\n",
    "    res_table = i_file.assign(**{newcol : i_file[i_m[0]].map(f_file.set_index(f_m[0])[f_cols[0]])})\n",
    "else:\n",
    "    res_table = i_file.merge(f_file[f_m + f_cols], how='left', left_on = i_m, right_on = f_m)"
   ]
  },
  {
   "cell_type": "code",
   "execution_count": 107,
   "id": "7d0870fa",
   "metadata": {},
   "outputs": [
    {
     "data": {
      "text/html": [
       "<div>\n",
       "<style scoped>\n",
       "    .dataframe tbody tr th:only-of-type {\n",
       "        vertical-align: middle;\n",
       "    }\n",
       "\n",
       "    .dataframe tbody tr th {\n",
       "        vertical-align: top;\n",
       "    }\n",
       "\n",
       "    .dataframe thead th {\n",
       "        text-align: right;\n",
       "    }\n",
       "</style>\n",
       "<table border=\"1\" class=\"dataframe\">\n",
       "  <thead>\n",
       "    <tr style=\"text-align: right;\">\n",
       "      <th></th>\n",
       "      <th>id</th>\n",
       "      <th>v1</th>\n",
       "      <th>v2</th>\n",
       "      <th>v3</th>\n",
       "      <th>b2</th>\n",
       "    </tr>\n",
       "  </thead>\n",
       "  <tbody>\n",
       "    <tr>\n",
       "      <th>0</th>\n",
       "      <td>s1</td>\n",
       "      <td>1</td>\n",
       "      <td>2</td>\n",
       "      <td>3</td>\n",
       "      <td>2.0</td>\n",
       "    </tr>\n",
       "    <tr>\n",
       "      <th>1</th>\n",
       "      <td>s11</td>\n",
       "      <td>11</td>\n",
       "      <td>22</td>\n",
       "      <td>33</td>\n",
       "      <td>NaN</td>\n",
       "    </tr>\n",
       "    <tr>\n",
       "      <th>2</th>\n",
       "      <td>s111</td>\n",
       "      <td>111</td>\n",
       "      <td>222</td>\n",
       "      <td>333</td>\n",
       "      <td>NaN</td>\n",
       "    </tr>\n",
       "  </tbody>\n",
       "</table>\n",
       "</div>"
      ],
      "text/plain": [
       "     id   v1   v2   v3   b2\n",
       "0    s1    1    2    3  2.0\n",
       "1   s11   11   22   33  NaN\n",
       "2  s111  111  222  333  NaN"
      ]
     },
     "execution_count": 107,
     "metadata": {},
     "output_type": "execute_result"
    }
   ],
   "source": [
    "res_table"
   ]
  },
  {
   "cell_type": "code",
   "execution_count": null,
   "id": "81694a0f",
   "metadata": {},
   "outputs": [],
   "source": []
  },
  {
   "cell_type": "code",
   "execution_count": 76,
   "id": "b1f1909b",
   "metadata": {},
   "outputs": [
    {
     "name": "stdout",
     "output_type": "stream",
     "text": [
      "     id   v1   v2   v3\n",
      "0    s1    1    2    3\n",
      "1   s11   11   22   33\n",
      "2  s111  111  222  333\n",
      "     id    v1   b2   b3\n",
      "0    s1     1    2    3\n",
      "1  s111  1111  222  333\n"
     ]
    }
   ],
   "source": [
    "i_file = pd.read_csv(\"~/Downloads/test.txt\", sep = \"\\t\", header = 0)\n",
    "f_file = pd.read_csv(\"~/Downloads/test2.txt\", sep = \"\\t\", header = 0)\n",
    "print(i_file)\n",
    "print(f_file)"
   ]
  },
  {
   "cell_type": "code",
   "execution_count": 77,
   "id": "9c834e10",
   "metadata": {},
   "outputs": [],
   "source": [
    "i_m = ['id', 'v1']\n",
    "f_m = ['id', 'v1']"
   ]
  },
  {
   "cell_type": "code",
   "execution_count": 47,
   "id": "99773511",
   "metadata": {},
   "outputs": [],
   "source": [
    "newcol = f_cols[0]\n",
    "i_file = i_file.assign(**{newcol : i_file['id'].map(f_file.set_index('id2')[f_cols[0]])})"
   ]
  },
  {
   "cell_type": "code",
   "execution_count": 78,
   "id": "093c4c2b",
   "metadata": {},
   "outputs": [],
   "source": [
    "f_cols = [\"b3\"]"
   ]
  },
  {
   "cell_type": "code",
   "execution_count": 82,
   "id": "62982d4a",
   "metadata": {},
   "outputs": [],
   "source": [
    "f_cols = [f_file.columns[int(x)] for x in \"2\".split(\",\")]"
   ]
  },
  {
   "cell_type": "code",
   "execution_count": 83,
   "id": "6c6a8e91",
   "metadata": {},
   "outputs": [],
   "source": [
    "colnames = f_cols"
   ]
  },
  {
   "cell_type": "code",
   "execution_count": 87,
   "id": "9beafa2e",
   "metadata": {},
   "outputs": [
    {
     "data": {
      "text/html": [
       "<div>\n",
       "<style scoped>\n",
       "    .dataframe tbody tr th:only-of-type {\n",
       "        vertical-align: middle;\n",
       "    }\n",
       "\n",
       "    .dataframe tbody tr th {\n",
       "        vertical-align: top;\n",
       "    }\n",
       "\n",
       "    .dataframe thead th {\n",
       "        text-align: right;\n",
       "    }\n",
       "</style>\n",
       "<table border=\"1\" class=\"dataframe\">\n",
       "  <thead>\n",
       "    <tr style=\"text-align: right;\">\n",
       "      <th></th>\n",
       "      <th>id</th>\n",
       "      <th>v1</th>\n",
       "      <th>b2</th>\n",
       "    </tr>\n",
       "  </thead>\n",
       "  <tbody>\n",
       "    <tr>\n",
       "      <th>0</th>\n",
       "      <td>s1</td>\n",
       "      <td>1</td>\n",
       "      <td>2</td>\n",
       "    </tr>\n",
       "    <tr>\n",
       "      <th>1</th>\n",
       "      <td>s111</td>\n",
       "      <td>1111</td>\n",
       "      <td>222</td>\n",
       "    </tr>\n",
       "  </tbody>\n",
       "</table>\n",
       "</div>"
      ],
      "text/plain": [
       "     id    v1   b2\n",
       "0    s1     1    2\n",
       "1  s111  1111  222"
      ]
     },
     "execution_count": 87,
     "metadata": {},
     "output_type": "execute_result"
    }
   ],
   "source": [
    "f_file[f_m + f_cols]"
   ]
  },
  {
   "cell_type": "code",
   "execution_count": 99,
   "id": "7b3a7552",
   "metadata": {},
   "outputs": [
    {
     "data": {
      "text/html": [
       "<div>\n",
       "<style scoped>\n",
       "    .dataframe tbody tr th:only-of-type {\n",
       "        vertical-align: middle;\n",
       "    }\n",
       "\n",
       "    .dataframe tbody tr th {\n",
       "        vertical-align: top;\n",
       "    }\n",
       "\n",
       "    .dataframe thead th {\n",
       "        text-align: right;\n",
       "    }\n",
       "</style>\n",
       "<table border=\"1\" class=\"dataframe\">\n",
       "  <thead>\n",
       "    <tr style=\"text-align: right;\">\n",
       "      <th></th>\n",
       "      <th>id</th>\n",
       "      <th>v1</th>\n",
       "      <th>v2</th>\n",
       "      <th>v3</th>\n",
       "      <th>b2</th>\n",
       "    </tr>\n",
       "  </thead>\n",
       "  <tbody>\n",
       "    <tr>\n",
       "      <th>0</th>\n",
       "      <td>s1</td>\n",
       "      <td>1</td>\n",
       "      <td>2</td>\n",
       "      <td>3</td>\n",
       "      <td>2.0</td>\n",
       "    </tr>\n",
       "    <tr>\n",
       "      <th>1</th>\n",
       "      <td>s11</td>\n",
       "      <td>11</td>\n",
       "      <td>22</td>\n",
       "      <td>33</td>\n",
       "      <td>NaN</td>\n",
       "    </tr>\n",
       "    <tr>\n",
       "      <th>2</th>\n",
       "      <td>s111</td>\n",
       "      <td>111</td>\n",
       "      <td>222</td>\n",
       "      <td>333</td>\n",
       "      <td>NaN</td>\n",
       "    </tr>\n",
       "  </tbody>\n",
       "</table>\n",
       "</div>"
      ],
      "text/plain": [
       "     id   v1   v2   v3   b2\n",
       "0    s1    1    2    3  2.0\n",
       "1   s11   11   22   33  NaN\n",
       "2  s111  111  222  333  NaN"
      ]
     },
     "execution_count": 99,
     "metadata": {},
     "output_type": "execute_result"
    }
   ],
   "source": [
    "i_file.merge(f_file[f_m + f_cols], how='left', left_on = i_m, right_on = f_m)"
   ]
  }
 ],
 "metadata": {
  "kernelspec": {
   "display_name": "Python 3 (ipykernel)",
   "language": "python",
   "name": "python3"
  },
  "language_info": {
   "codemirror_mode": {
    "name": "ipython",
    "version": 3
   },
   "file_extension": ".py",
   "mimetype": "text/x-python",
   "name": "python",
   "nbconvert_exporter": "python",
   "pygments_lexer": "ipython3",
   "version": "3.9.13"
  }
 },
 "nbformat": 4,
 "nbformat_minor": 5
}
