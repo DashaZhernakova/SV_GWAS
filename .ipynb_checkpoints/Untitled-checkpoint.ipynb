{
 "cells": [
  {
   "cell_type": "code",
   "execution_count": 1,
   "id": "ad97e903",
   "metadata": {},
   "outputs": [],
   "source": [
    "import pandas as pd\n"
   ]
  },
  {
   "cell_type": "code",
   "execution_count": 89,
   "id": "2db25e39",
   "metadata": {},
   "outputs": [],
   "source": [
    "args = {\"i_fname\" : \"~/Downloads/test.txt\", \"f_fname\" : \"~/Downloads/test2.txt\", \"header\" : True, \"i_m\" : \"0,1\", \"f_m\" : \"0,1\", \"f_cols\" : \"2\"}"
   ]
  },
  {
   "cell_type": "code",
   "execution_count": 91,
   "id": "5e73b71a",
   "metadata": {},
   "outputs": [
    {
     "ename": "ValueError",
     "evalue": "invalid literal for int() with base 10: 'id'",
     "output_type": "error",
     "traceback": [
      "\u001b[0;31m---------------------------------------------------------------------------\u001b[0m",
      "\u001b[0;31mValueError\u001b[0m                                Traceback (most recent call last)",
      "Input \u001b[0;32mIn [91]\u001b[0m, in \u001b[0;36m<cell line: 9>\u001b[0;34m()\u001b[0m\n\u001b[1;32m     11\u001b[0m     f_m \u001b[38;5;241m=\u001b[39m [f_file\u001b[38;5;241m.\u001b[39mcolumns[\u001b[38;5;28mint\u001b[39m(args[\u001b[38;5;124m'\u001b[39m\u001b[38;5;124mf_m\u001b[39m\u001b[38;5;124m'\u001b[39m])]]\n\u001b[1;32m     12\u001b[0m \u001b[38;5;28;01melse\u001b[39;00m:\n\u001b[0;32m---> 13\u001b[0m     i_m \u001b[38;5;241m=\u001b[39m [i_file\u001b[38;5;241m.\u001b[39mcolumns[\u001b[38;5;28mint\u001b[39m(x)] \u001b[38;5;28;01mfor\u001b[39;00m x \u001b[38;5;129;01min\u001b[39;00m args[\u001b[38;5;124m'\u001b[39m\u001b[38;5;124mi_m\u001b[39m\u001b[38;5;124m'\u001b[39m]\u001b[38;5;241m.\u001b[39msplit(\u001b[38;5;124m'\u001b[39m\u001b[38;5;124m,\u001b[39m\u001b[38;5;124m'\u001b[39m)]\n\u001b[1;32m     14\u001b[0m     f_m \u001b[38;5;241m=\u001b[39m [f_file\u001b[38;5;241m.\u001b[39mcolumns[\u001b[38;5;28mint\u001b[39m(x)] \u001b[38;5;28;01mfor\u001b[39;00m x \u001b[38;5;129;01min\u001b[39;00m args[\u001b[38;5;124m'\u001b[39m\u001b[38;5;124mf_m\u001b[39m\u001b[38;5;124m'\u001b[39m]\u001b[38;5;241m.\u001b[39msplit(\u001b[38;5;124m'\u001b[39m\u001b[38;5;124m,\u001b[39m\u001b[38;5;124m'\u001b[39m)]\n\u001b[1;32m     16\u001b[0m f_cols \u001b[38;5;241m=\u001b[39m [f_file\u001b[38;5;241m.\u001b[39mcolumns[\u001b[38;5;28mint\u001b[39m(x)] \u001b[38;5;28;01mfor\u001b[39;00m x \u001b[38;5;129;01min\u001b[39;00m args[\u001b[38;5;124m'\u001b[39m\u001b[38;5;124mf_cols\u001b[39m\u001b[38;5;124m'\u001b[39m]\u001b[38;5;241m.\u001b[39msplit(\u001b[38;5;124m\"\u001b[39m\u001b[38;5;124m,\u001b[39m\u001b[38;5;124m\"\u001b[39m)]\n",
      "Input \u001b[0;32mIn [91]\u001b[0m, in \u001b[0;36m<listcomp>\u001b[0;34m(.0)\u001b[0m\n\u001b[1;32m     11\u001b[0m     f_m \u001b[38;5;241m=\u001b[39m [f_file\u001b[38;5;241m.\u001b[39mcolumns[\u001b[38;5;28mint\u001b[39m(args[\u001b[38;5;124m'\u001b[39m\u001b[38;5;124mf_m\u001b[39m\u001b[38;5;124m'\u001b[39m])]]\n\u001b[1;32m     12\u001b[0m \u001b[38;5;28;01melse\u001b[39;00m:\n\u001b[0;32m---> 13\u001b[0m     i_m \u001b[38;5;241m=\u001b[39m [i_file\u001b[38;5;241m.\u001b[39mcolumns[\u001b[38;5;28;43mint\u001b[39;49m\u001b[43m(\u001b[49m\u001b[43mx\u001b[49m\u001b[43m)\u001b[49m] \u001b[38;5;28;01mfor\u001b[39;00m x \u001b[38;5;129;01min\u001b[39;00m args[\u001b[38;5;124m'\u001b[39m\u001b[38;5;124mi_m\u001b[39m\u001b[38;5;124m'\u001b[39m]\u001b[38;5;241m.\u001b[39msplit(\u001b[38;5;124m'\u001b[39m\u001b[38;5;124m,\u001b[39m\u001b[38;5;124m'\u001b[39m)]\n\u001b[1;32m     14\u001b[0m     f_m \u001b[38;5;241m=\u001b[39m [f_file\u001b[38;5;241m.\u001b[39mcolumns[\u001b[38;5;28mint\u001b[39m(x)] \u001b[38;5;28;01mfor\u001b[39;00m x \u001b[38;5;129;01min\u001b[39;00m args[\u001b[38;5;124m'\u001b[39m\u001b[38;5;124mf_m\u001b[39m\u001b[38;5;124m'\u001b[39m]\u001b[38;5;241m.\u001b[39msplit(\u001b[38;5;124m'\u001b[39m\u001b[38;5;124m,\u001b[39m\u001b[38;5;124m'\u001b[39m)]\n\u001b[1;32m     16\u001b[0m f_cols \u001b[38;5;241m=\u001b[39m [f_file\u001b[38;5;241m.\u001b[39mcolumns[\u001b[38;5;28mint\u001b[39m(x)] \u001b[38;5;28;01mfor\u001b[39;00m x \u001b[38;5;129;01min\u001b[39;00m args[\u001b[38;5;124m'\u001b[39m\u001b[38;5;124mf_cols\u001b[39m\u001b[38;5;124m'\u001b[39m]\u001b[38;5;241m.\u001b[39msplit(\u001b[38;5;124m\"\u001b[39m\u001b[38;5;124m,\u001b[39m\u001b[38;5;124m\"\u001b[39m)]\n",
      "\u001b[0;31mValueError\u001b[0m: invalid literal for int() with base 10: 'id'"
     ]
    }
   ],
   "source": [
    "i_fname = sys.stdin if args['i_fname'] == \"stdin\" else args['i_fname']\n",
    "header_row = 0 if args['header'] else None\n",
    "#separator = args['sep']\n",
    "separator = \"\\t\"\n",
    "\n",
    "i_file = pd.read_csv(i_fname, sep = separator, header = header_row)\n",
    "f_file = pd.read_csv(args['f_fname'], sep = separator, header = header_row)\n",
    "\n",
    "if ',' not in args['i_m']:\n",
    "    i_m = [i_file.columns[int(args['i_m'])]]\n",
    "    f_m = [f_file.columns[int(args['f_m'])]]\n",
    "else:\n",
    "    i_m = [i_file.columns[int(x)] for x in args['i_m'].split(',')]\n",
    "    f_m = [f_file.columns[int(x)] for x in args['f_m'].split(',')]\n",
    "\n",
    "f_cols = [f_file.columns[int(x)] for x in args['f_cols'].split(\",\")]\n",
    "\n",
    "if len(args['cn']) > 0:\n",
    "    colnames = args['cn'].split(',')\n",
    "else:    \n",
    "    colnames = f_cols\n"
   ]
  },
  {
   "cell_type": "code",
   "execution_count": null,
   "id": "9a19abf5",
   "metadata": {},
   "outputs": [],
   "source": []
  },
  {
   "cell_type": "code",
   "execution_count": null,
   "id": "ecde7529",
   "metadata": {},
   "outputs": [],
   "source": []
  },
  {
   "cell_type": "code",
   "execution_count": null,
   "id": "c834e3e0",
   "metadata": {},
   "outputs": [],
   "source": []
  },
  {
   "cell_type": "code",
   "execution_count": 76,
   "id": "88c19410",
   "metadata": {},
   "outputs": [
    {
     "name": "stdout",
     "output_type": "stream",
     "text": [
      "     id   v1   v2   v3\n",
      "0    s1    1    2    3\n",
      "1   s11   11   22   33\n",
      "2  s111  111  222  333\n",
      "     id    v1   b2   b3\n",
      "0    s1     1    2    3\n",
      "1  s111  1111  222  333\n"
     ]
    }
   ],
   "source": [
    "i_file = pd.read_csv(\"~/Downloads/test.txt\", sep = \"\\t\", header = 0)\n",
    "f_file = pd.read_csv(\"~/Downloads/test2.txt\", sep = \"\\t\", header = 0)\n",
    "print(i_file)\n",
    "print(f_file)"
   ]
  },
  {
   "cell_type": "code",
   "execution_count": 77,
   "id": "46110d6a",
   "metadata": {},
   "outputs": [],
   "source": [
    "i_m = ['id', 'v1']\n",
    "f_m = ['id', 'v1']"
   ]
  },
  {
   "cell_type": "code",
   "execution_count": 47,
   "id": "fc5f21d7",
   "metadata": {},
   "outputs": [],
   "source": [
    "newcol = f_cols[0]\n",
    "i_file = i_file.assign(**{newcol : i_file['id'].map(f_file.set_index('id2')[f_cols[0]])})"
   ]
  },
  {
   "cell_type": "code",
   "execution_count": 78,
   "id": "439b4281",
   "metadata": {},
   "outputs": [],
   "source": [
    "f_cols = [\"b3\"]"
   ]
  },
  {
   "cell_type": "code",
   "execution_count": 82,
   "id": "c39705f0",
   "metadata": {},
   "outputs": [],
   "source": [
    "f_cols = [f_file.columns[int(x)] for x in \"2\".split(\",\")]"
   ]
  },
  {
   "cell_type": "code",
   "execution_count": 83,
   "id": "45e77430",
   "metadata": {},
   "outputs": [],
   "source": [
    "colnames = f_cols"
   ]
  },
  {
   "cell_type": "code",
   "execution_count": 87,
   "id": "7a2d7dcf",
   "metadata": {},
   "outputs": [
    {
     "data": {
      "text/html": [
       "<div>\n",
       "<style scoped>\n",
       "    .dataframe tbody tr th:only-of-type {\n",
       "        vertical-align: middle;\n",
       "    }\n",
       "\n",
       "    .dataframe tbody tr th {\n",
       "        vertical-align: top;\n",
       "    }\n",
       "\n",
       "    .dataframe thead th {\n",
       "        text-align: right;\n",
       "    }\n",
       "</style>\n",
       "<table border=\"1\" class=\"dataframe\">\n",
       "  <thead>\n",
       "    <tr style=\"text-align: right;\">\n",
       "      <th></th>\n",
       "      <th>id</th>\n",
       "      <th>v1</th>\n",
       "      <th>b2</th>\n",
       "    </tr>\n",
       "  </thead>\n",
       "  <tbody>\n",
       "    <tr>\n",
       "      <th>0</th>\n",
       "      <td>s1</td>\n",
       "      <td>1</td>\n",
       "      <td>2</td>\n",
       "    </tr>\n",
       "    <tr>\n",
       "      <th>1</th>\n",
       "      <td>s111</td>\n",
       "      <td>1111</td>\n",
       "      <td>222</td>\n",
       "    </tr>\n",
       "  </tbody>\n",
       "</table>\n",
       "</div>"
      ],
      "text/plain": [
       "     id    v1   b2\n",
       "0    s1     1    2\n",
       "1  s111  1111  222"
      ]
     },
     "execution_count": 87,
     "metadata": {},
     "output_type": "execute_result"
    }
   ],
   "source": [
    "f_file[f_m + f_cols]"
   ]
  },
  {
   "cell_type": "code",
   "execution_count": 85,
   "id": "4da75dd9",
   "metadata": {},
   "outputs": [
    {
     "data": {
      "text/html": [
       "<div>\n",
       "<style scoped>\n",
       "    .dataframe tbody tr th:only-of-type {\n",
       "        vertical-align: middle;\n",
       "    }\n",
       "\n",
       "    .dataframe tbody tr th {\n",
       "        vertical-align: top;\n",
       "    }\n",
       "\n",
       "    .dataframe thead th {\n",
       "        text-align: right;\n",
       "    }\n",
       "</style>\n",
       "<table border=\"1\" class=\"dataframe\">\n",
       "  <thead>\n",
       "    <tr style=\"text-align: right;\">\n",
       "      <th></th>\n",
       "      <th>id</th>\n",
       "      <th>v1</th>\n",
       "      <th>v2</th>\n",
       "      <th>v3</th>\n",
       "      <th>b2</th>\n",
       "    </tr>\n",
       "  </thead>\n",
       "  <tbody>\n",
       "    <tr>\n",
       "      <th>0</th>\n",
       "      <td>s1</td>\n",
       "      <td>1</td>\n",
       "      <td>2</td>\n",
       "      <td>3</td>\n",
       "      <td>2.0</td>\n",
       "    </tr>\n",
       "    <tr>\n",
       "      <th>1</th>\n",
       "      <td>s11</td>\n",
       "      <td>11</td>\n",
       "      <td>22</td>\n",
       "      <td>33</td>\n",
       "      <td>NaN</td>\n",
       "    </tr>\n",
       "    <tr>\n",
       "      <th>2</th>\n",
       "      <td>s111</td>\n",
       "      <td>111</td>\n",
       "      <td>222</td>\n",
       "      <td>333</td>\n",
       "      <td>NaN</td>\n",
       "    </tr>\n",
       "  </tbody>\n",
       "</table>\n",
       "</div>"
      ],
      "text/plain": [
       "     id   v1   v2   v3   b2\n",
       "0    s1    1    2    3  2.0\n",
       "1   s11   11   22   33  NaN\n",
       "2  s111  111  222  333  NaN"
      ]
     },
     "execution_count": 85,
     "metadata": {},
     "output_type": "execute_result"
    }
   ],
   "source": [
    "i_file.merge(f_file[f_m + f_cols], how='left', left_on = i_m, right_on = f_m)"
   ]
  }
 ],
 "metadata": {
  "kernelspec": {
   "display_name": "Python 3 (ipykernel)",
   "language": "python",
   "name": "python3"
  },
  "language_info": {
   "codemirror_mode": {
    "name": "ipython",
    "version": 3
   },
   "file_extension": ".py",
   "mimetype": "text/x-python",
   "name": "python",
   "nbconvert_exporter": "python",
   "pygments_lexer": "ipython3",
   "version": "3.9.13"
  }
 },
 "nbformat": 4,
 "nbformat_minor": 5
}
